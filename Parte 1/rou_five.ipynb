{
 "cells": [
  {
   "cell_type": "code",
   "execution_count": null,
   "id": "77504556-04bc-44fb-b7ff-73edcad9ebc2",
   "metadata": {},
   "outputs": [],
   "source": [
    "from cobra.io import read_sbml_model\n",
    "\n",
    "print(\"start\")\n",
    "\n",
    "model = read_sbml_model('iML1515.xml')\n",
    "envcond = {'EX_glc__D_e': (-15.0, 100000.0),\n",
    "           'EX_o2_e':(0,1000)}\n",
    "\n",
    "model.solver=\"gurobi\"\n",
    "#from mewpy.simulation import get_simulator\n",
    "#simul = get_simulator(model, envcond=envcond)\n",
    "PRODUCT_ID = 'EX_lac__D_e'\n",
    "BIOMASS_ID = 'BIOMASS_Ec_iML1515_core_75p37M'\n",
    "\n",
    "from mewpy.optimization.evaluation import  BPCY, WYIELD\n",
    "evaluator_1 = BPCY(BIOMASS_ID, PRODUCT_ID, method='pFBA')\n",
    "evaluator_2 = WYIELD(BIOMASS_ID, PRODUCT_ID)\n",
    "\n",
    "from mewpy.problems import ROUProblem\n",
    "problem = ROUProblem(model, fevaluation=[evaluator_1, evaluator_2], envcond=envcond, candidate_max_size=5)\n",
    "\n",
    "from mewpy.optimization import EA\n",
    "ea = EA(problem, max_generations=20,algorithm='NSGAIII')\n",
    "final_pop = ea.run()\n",
    "print(final_pop)\n",
    "gene_list = open('rou_five_list.txt', 'w')\n",
    "for i in final_pop:\n",
    "    gene_list.write(str(i) + '\\n')\n",
    "\n",
    "gene_list.close()\n"
   ]
  }
 ],
 "metadata": {
  "kernelspec": {
   "display_name": "Python 3",
   "language": "python",
   "name": "python3"
  },
  "language_info": {
   "codemirror_mode": {
    "name": "ipython",
    "version": 3
   },
   "file_extension": ".py",
   "mimetype": "text/x-python",
   "name": "python",
   "nbconvert_exporter": "python",
   "pygments_lexer": "ipython3",
   "version": "3.8.8"
  }
 },
 "nbformat": 4,
 "nbformat_minor": 5
}
