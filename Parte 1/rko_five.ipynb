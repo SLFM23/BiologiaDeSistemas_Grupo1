{
 "cells": [
  {
   "cell_type": "code",
   "execution_count": 2,
   "id": "a4e899da-25d1-41e6-a55e-c2162ddf24df",
   "metadata": {},
   "outputs": [
    {
     "name": "stdout",
     "output_type": "stream",
     "text": [
      "start\n",
      "Set parameter Username\n",
      "Academic license - for non-commercial use only - expires 2022-03-12\n",
      "Building modification target list.\n",
      "Computing essential reactions\n"
     ]
    },
    {
     "name": "stderr",
     "output_type": "stream",
     "text": [
      "  5%|▍         | 126/2712 [00:24<09:56,  4.34it/s]C:\\Users\\ampsi\\anaconda3\\lib\\site-packages\\cobra\\util\\solver.py:554: UserWarning: Solver status is 'infeasible'.\n",
      "  warn(f\"Solver status is '{status}'.\", UserWarning)\n",
      "100%|██████████| 2712/2712 [07:14<00:00,  6.23it/s]\n"
     ]
    },
    {
     "name": "stdout",
     "output_type": "stream",
     "text": [
      "Running NSGAIII\n",
      "Eval(s)|     Worst      Best    Median   Average   Std Dev|     Worst      Best    Median   Average   Std Dev|\n",
      "    100|  5.554840  5.554840  5.554840  5.554840  0.000000|  8.020529  8.020529  8.020529  8.020529  0.000000|\n",
      "    200|  5.554840  5.554840  5.554840  5.554840  0.000000|  8.020529  8.020529  8.020529  8.020529  0.000000|\n",
      "    300|  5.554840  6.936432  5.554840  6.015371  0.651289|  7.730159  8.020529  8.020529  7.923739  0.136882|\n",
      "    400|  5.316024  6.936432  6.759323  6.442776  0.666409|  7.730159  26.012620  16.280347  16.575868  8.855577|\n",
      "    500|  4.995798  6.936432  5.949119  6.041923  0.819109|  7.730159  26.289312  25.421578  19.043523  8.772632|\n",
      "    600|  4.995798  6.936432  5.316024  5.849268  0.755758|  7.730159  26.289312  26.012620  22.716138  6.723344|\n",
      "    700|  4.995798  6.936432  5.949119  5.991339  0.820257|  7.730159  26.289312  25.421578  20.346803  8.274528|\n",
      "    800|  4.995798  6.957409  5.261612  5.387510  0.609584|  25.686455  26.289312  26.060021  26.087459  0.193726|\n",
      "    900|  5.564434  6.957409  6.260922  6.260922  0.696487|  25.686455  26.672819  26.179637  26.179637  0.493182|\n",
      "   1000|  5.214021  6.957409  6.189258  6.178632  0.741815|  25.686455  26.900076  26.280852  26.251251  0.507561|\n",
      "   1100|  5.214021  6.957409  6.189258  6.137487  0.760137|  25.686455  26.900076  26.280852  26.287059  0.510849|\n",
      "   1200|  5.214021  6.957409  6.189258  6.161798  0.770733|  25.686455  26.900076  26.280852  26.262865  0.539977|\n",
      "   1300|  5.214021  6.957409  6.676143  6.333783  0.661117|  25.686455  26.900076  25.934984  26.152952  0.458816|\n",
      "   1400|  5.214021  6.957409  6.538203  6.295886  0.689915|  25.686455  26.900076  25.981083  26.172075  0.484996|\n",
      "   1500|  5.194103  6.957409  6.538203  6.256046  0.710853|  25.686455  26.912864  25.981083  26.200940  0.488802|\n",
      "   1600|  5.108196  6.957409  6.538203  6.206417  0.739024|  25.686455  27.045615  25.981083  26.235280  0.515001|\n",
      "   1700|  5.108196  6.957409  6.538203  6.197526  0.742275|  25.686455  27.045615  25.981083  26.242752  0.517788|\n",
      "   1800|  5.108196  6.957409  6.538203  6.268036  0.735602|  25.686455  27.045615  25.981083  26.190592  0.516322|\n",
      "   1900|  5.108196  6.957409  6.538203  6.250009  0.737787|  25.686455  27.045615  25.981083  26.203743  0.517324|\n",
      "   2000|  5.108196  6.957409  6.538203  6.219762  0.750614|  25.686455  27.045615  25.981083  26.226909  0.529955|\n",
      "[[6.957409329399806, 25.68645522450876];{'ATPM': 0, 'ACALD': 0, 'ACt2rpp': 0}, [6.8140821615348885, 25.88888426760657];{'HACD2': 0, 'ATPM': 0, 'ACALD': 0, 'ACt2rpp': 0}, [5.214020821240683, 26.900075583528235];{'GLUDy': 0, 'ACALD': 0, 'ACt2rpp': 0}, [5.444320676551302, 26.828959398415424];{'ACALD': 0, 'HACD2': 0, 'ACt2rpp': 0}, [5.42263859872685, 26.843054516342086];{'ACALD': 0, 'CYTK1': 0, 'HACD2': 0, 'ACt2rpp': 0}, [5.541804731177344, 26.68762789473574];{'ACALD': 0, 'CYTK1': 0, 'ACt2rpp': 0}, [6.930435932854332, 25.70565414183394];{'ATPM': 0, 'ACALD': 0, 'CYTK1': 0, 'ACt2rpp': 0}, [5.19410298315297, 26.912863749939156];{'GLUDy': 0, 'ACALD': 0, 'CYTK1': 0, 'ACt2rpp': 0}, [6.788168497754352, 25.907157972786397];{'HACD2': 0, 'ATPM': 0, 'ACALD': 0, 'CYTK1': 0, 'ACt2rpp': 0}, [6.5382029921100555, 25.981083297566897];{'ATPM': 0, 'ACALD': 0, 'ACt2rpp': 0, 'GLUDy': 0}, [5.564434484641794, 26.672819129835943];{'ACALD': 0, 'ACt2rpp': 0}, [5.108195589830698, 27.045615163489728];{'HACD2': 0, 'GLUDy': 0, 'ACALD': 0, 'ACt2rpp': 0}, [6.51427832175153, 25.997662597154168];{'ATPM': 0, 'ACALD': 0, 'CYTK1': 0, 'ACt2rpp': 0, 'GLUDy': 0}, [5.444320676551448, 26.8289593984131];{'ACALD': 0, 'ECOAH1': 0, 'ACt2rpp': 0}]\n"
     ]
    }
   ],
   "source": [
    "from cobra.io import read_sbml_model\n",
    "\n",
    "print(\"start\")\n",
    "\n",
    "model = read_sbml_model('iML1515.xml')\n",
    "envcond = {'EX_glc__D_e': (-15.0, 100000.0),\n",
    "           'EX_o2_e':(0,1000)}\n",
    "\n",
    "model.solver=\"gurobi\"\n",
    "#from mewpy.simulation import get_simulator\n",
    "#simul = get_simulator(model, envcond=envcond)\n",
    "PRODUCT_ID = 'EX_lac__D_e'\n",
    "BIOMASS_ID = 'BIOMASS_Ec_iML1515_core_75p37M'\n",
    "\n",
    "from mewpy.optimization.evaluation import  BPCY, WYIELD\n",
    "evaluator_1 = BPCY(BIOMASS_ID, PRODUCT_ID, method='pFBA')\n",
    "evaluator_2 = WYIELD(BIOMASS_ID, PRODUCT_ID)\n",
    "\n",
    "from mewpy.problems import RKOProblem\n",
    "problem = RKOProblem(model, fevaluation=[evaluator_1, evaluator_2], envcond=envcond, candidate_max_size=5)\n",
    "\n",
    "from mewpy.optimization import EA\n",
    "ea = EA(problem, max_generations=20,algorithm='NSGAIII')\n",
    "final_pop = ea.run()\n",
    "print(final_pop)\n",
    "gene_list = open('rko_five_list.txt', 'w')\n",
    "for i in final_pop:\n",
    "    gene_list.write(str(i) + '\\n')\n",
    "\n",
    "gene_list.close()\n"
   ]
  },
  {
   "cell_type": "code",
   "execution_count": null,
   "id": "fdeecf09-a220-4c21-8599-967fc35437ef",
   "metadata": {},
   "outputs": [],
   "source": [
    "\n"
   ]
  },
  {
   "cell_type": "code",
   "execution_count": null,
   "id": "e2ed39cb-53fd-4b20-9f7b-efdf7b3b4ae5",
   "metadata": {},
   "outputs": [],
   "source": []
  }
 ],
 "metadata": {
  "kernelspec": {
   "display_name": "Python 3",
   "language": "python",
   "name": "python3"
  },
  "language_info": {
   "codemirror_mode": {
    "name": "ipython",
    "version": 3
   },
   "file_extension": ".py",
   "mimetype": "text/x-python",
   "name": "python",
   "nbconvert_exporter": "python",
   "pygments_lexer": "ipython3",
   "version": "3.8.8"
  }
 },
 "nbformat": 4,
 "nbformat_minor": 5
}
